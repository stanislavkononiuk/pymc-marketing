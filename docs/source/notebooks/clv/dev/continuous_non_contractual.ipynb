{
 "cells": [
  {
   "cell_type": "markdown",
   "id": "37cf4c31",
   "metadata": {},
   "source": [
    "# Continuous non-Contractual"
   ]
  },
  {
   "cell_type": "code",
   "execution_count": 1,
   "id": "a4ff3633",
   "metadata": {},
   "outputs": [],
   "source": [
    "from pymc_marketing.clv.distributions import ContNonContract\n",
    "\n",
    "import numpy as np\n",
    "import pandas as pd\n",
    "\n",
    "import pymc as pm\n",
    "\n",
    "import matplotlib.pyplot as plt\n",
    "import arviz as az"
   ]
  },
  {
   "cell_type": "markdown",
   "id": "4ba93a3e",
   "metadata": {},
   "source": [
    "## Ground Truth Parameter Values"
   ]
  },
  {
   "cell_type": "code",
   "execution_count": 2,
   "id": "bcf84069",
   "metadata": {},
   "outputs": [],
   "source": [
    "rng = np.random.RandomState(seed=34)\n",
    "T = 10\n",
    "T0 = 0\n",
    "\n",
    "# individual-level model\n",
    "lam = 0.5; p = 0.3"
   ]
  },
  {
   "cell_type": "markdown",
   "id": "6d38b550",
   "metadata": {},
   "source": [
    "## Sampling from the Prior\n",
    "\n",
    "We will perform inference on the prior data to estimate the values of `lam` and `p` which have been set to 0.5 and 0.3 respectively."
   ]
  },
  {
   "cell_type": "code",
   "execution_count": 3,
   "id": "3d597099",
   "metadata": {},
   "outputs": [],
   "source": [
    "cnc = ContNonContract.dist(\n",
    "    lam=lam,\n",
    "    p=p,\n",
    "    T=T,\n",
    ")\n",
    "\n",
    "prior_data = pm.draw(cnc, draws=10000)"
   ]
  },
  {
   "cell_type": "markdown",
   "id": "1bee22c5",
   "metadata": {},
   "source": [
    "## Posterior Inference"
   ]
  },
  {
   "cell_type": "code",
   "execution_count": 5,
   "id": "796097ac",
   "metadata": {},
   "outputs": [
    {
     "name": "stderr",
     "output_type": "stream",
     "text": [
      "Auto-assigning NUTS sampler...\n",
      "Initializing NUTS using jitter+adapt_diag...\n"
     ]
    },
    {
     "ename": "SamplingError",
     "evalue": "Initial evaluation of model at starting point failed!\nStarting values:\n{'λ_log__': array(0.16243669), 'π_logodds__': array(0.251218)}\n\nInitial evaluation results:\n{'λ': -2.58, 'π': -3.12, 'cnc': -inf}",
     "output_type": "error",
     "traceback": [
      "\u001b[0;31m---------------------------------------------------------------------------\u001b[0m",
      "\u001b[0;31mSamplingError\u001b[0m                             Traceback (most recent call last)",
      "Cell \u001b[0;32mIn[5], line 14\u001b[0m\n\u001b[1;32m      4\u001b[0m π \u001b[38;5;241m=\u001b[39m pm\u001b[38;5;241m.\u001b[39mBeta(name\u001b[38;5;241m=\u001b[39m\u001b[38;5;124m\"\u001b[39m\u001b[38;5;124mπ\u001b[39m\u001b[38;5;124m\"\u001b[39m, alpha\u001b[38;5;241m=\u001b[39m\u001b[38;5;241m0.1\u001b[39m, beta\u001b[38;5;241m=\u001b[39m\u001b[38;5;241m0.1\u001b[39m)\n\u001b[1;32m      6\u001b[0m cnc \u001b[38;5;241m=\u001b[39m ContNonContract(\n\u001b[1;32m      7\u001b[0m     name\u001b[38;5;241m=\u001b[39m\u001b[38;5;124m\"\u001b[39m\u001b[38;5;124mcnc\u001b[39m\u001b[38;5;124m\"\u001b[39m,\n\u001b[1;32m      8\u001b[0m     lam\u001b[38;5;241m=\u001b[39mλ,\n\u001b[0;32m   (...)\u001b[0m\n\u001b[1;32m     11\u001b[0m     observed\u001b[38;5;241m=\u001b[39mprior_data\n\u001b[1;32m     12\u001b[0m )\n\u001b[0;32m---> 14\u001b[0m trace \u001b[38;5;241m=\u001b[39m \u001b[43mpm\u001b[49m\u001b[38;5;241;43m.\u001b[39;49m\u001b[43msample\u001b[49m\u001b[43m(\u001b[49m\u001b[43mdraws\u001b[49m\u001b[38;5;241;43m=\u001b[39;49m\u001b[38;5;241;43m1000\u001b[39;49m\u001b[43m,\u001b[49m\u001b[43m \u001b[49m\u001b[43mchains\u001b[49m\u001b[38;5;241;43m=\u001b[39;49m\u001b[38;5;241;43m1\u001b[39;49m\u001b[43m,\u001b[49m\u001b[43m \u001b[49m\u001b[43mtune\u001b[49m\u001b[38;5;241;43m=\u001b[39;49m\u001b[38;5;241;43m500\u001b[39;49m\u001b[43m)\u001b[49m\n",
      "File \u001b[0;32m~/miniforge3/envs/pymmmc_env/lib/python3.8/site-packages/pymc/sampling/mcmc.py:619\u001b[0m, in \u001b[0;36msample\u001b[0;34m(draws, tune, chains, cores, random_seed, progressbar, step, nuts_sampler, initvals, init, jitter_max_retries, n_init, trace, discard_tuned_samples, compute_convergence_checks, keep_warning_stat, return_inferencedata, idata_kwargs, nuts_sampler_kwargs, callback, mp_ctx, model, **kwargs)\u001b[0m\n\u001b[1;32m    617\u001b[0m ip: Dict[\u001b[38;5;28mstr\u001b[39m, np\u001b[38;5;241m.\u001b[39mndarray]\n\u001b[1;32m    618\u001b[0m \u001b[38;5;28;01mfor\u001b[39;00m ip \u001b[38;5;129;01min\u001b[39;00m initial_points:\n\u001b[0;32m--> 619\u001b[0m     \u001b[43mmodel\u001b[49m\u001b[38;5;241;43m.\u001b[39;49m\u001b[43mcheck_start_vals\u001b[49m\u001b[43m(\u001b[49m\u001b[43mip\u001b[49m\u001b[43m)\u001b[49m\n\u001b[1;32m    620\u001b[0m     _check_start_shape(model, ip)\n\u001b[1;32m    622\u001b[0m \u001b[38;5;66;03m# Create trace backends for each chain\u001b[39;00m\n",
      "File \u001b[0;32m~/miniforge3/envs/pymmmc_env/lib/python3.8/site-packages/pymc/model.py:1779\u001b[0m, in \u001b[0;36mModel.check_start_vals\u001b[0;34m(self, start)\u001b[0m\n\u001b[1;32m   1776\u001b[0m initial_eval \u001b[38;5;241m=\u001b[39m \u001b[38;5;28mself\u001b[39m\u001b[38;5;241m.\u001b[39mpoint_logps(point\u001b[38;5;241m=\u001b[39melem)\n\u001b[1;32m   1778\u001b[0m \u001b[38;5;28;01mif\u001b[39;00m \u001b[38;5;129;01mnot\u001b[39;00m \u001b[38;5;28mall\u001b[39m(np\u001b[38;5;241m.\u001b[39misfinite(v) \u001b[38;5;28;01mfor\u001b[39;00m v \u001b[38;5;129;01min\u001b[39;00m initial_eval\u001b[38;5;241m.\u001b[39mvalues()):\n\u001b[0;32m-> 1779\u001b[0m     \u001b[38;5;28;01mraise\u001b[39;00m SamplingError(\n\u001b[1;32m   1780\u001b[0m         \u001b[38;5;124m\"\u001b[39m\u001b[38;5;124mInitial evaluation of model at starting point failed!\u001b[39m\u001b[38;5;130;01m\\n\u001b[39;00m\u001b[38;5;124m\"\u001b[39m\n\u001b[1;32m   1781\u001b[0m         \u001b[38;5;124mf\u001b[39m\u001b[38;5;124m\"\u001b[39m\u001b[38;5;124mStarting values:\u001b[39m\u001b[38;5;130;01m\\n\u001b[39;00m\u001b[38;5;132;01m{\u001b[39;00melem\u001b[38;5;132;01m}\u001b[39;00m\u001b[38;5;130;01m\\n\u001b[39;00m\u001b[38;5;130;01m\\n\u001b[39;00m\u001b[38;5;124m\"\u001b[39m\n\u001b[1;32m   1782\u001b[0m         \u001b[38;5;124mf\u001b[39m\u001b[38;5;124m\"\u001b[39m\u001b[38;5;124mInitial evaluation results:\u001b[39m\u001b[38;5;130;01m\\n\u001b[39;00m\u001b[38;5;132;01m{\u001b[39;00minitial_eval\u001b[38;5;132;01m}\u001b[39;00m\u001b[38;5;124m\"\u001b[39m\n\u001b[1;32m   1783\u001b[0m     )\n",
      "\u001b[0;31mSamplingError\u001b[0m: Initial evaluation of model at starting point failed!\nStarting values:\n{'λ_log__': array(0.16243669), 'π_logodds__': array(0.251218)}\n\nInitial evaluation results:\n{'λ': -2.58, 'π': -3.12, 'cnc': -inf}"
     ]
    }
   ],
   "source": [
    "with pm.Model() as model:\n",
    "\n",
    "    λ = pm.Gamma(name=\"λ\", alpha=0.1, beta=0.1)\n",
    "    π = pm.Beta(name=\"π\", alpha=0.1, beta=0.1)\n",
    "    \n",
    "    cnc = ContNonContract(\n",
    "        name=\"cnc\",\n",
    "        lam=λ,\n",
    "        p=π,\n",
    "        T=T,\n",
    "        observed=prior_data\n",
    "    )\n",
    "    \n",
    "    trace = pm.sample(draws=1000, chains=1, tune=500)"
   ]
  },
  {
   "cell_type": "code",
   "execution_count": null,
   "id": "73fffe14",
   "metadata": {},
   "outputs": [],
   "source": [
    "_ = az.plot_posterior(trace, ref_val=[lam, p])\n",
    "plt.tight_layout()"
   ]
  },
  {
   "cell_type": "code",
   "execution_count": 14,
   "id": "9a12862a",
   "metadata": {},
   "outputs": [
    {
     "data": {
      "text/plain": [
       "array([[7.47907972, 5.        ],\n",
       "       [9.73741477, 6.        ],\n",
       "       [3.98171609, 3.        ],\n",
       "       ...,\n",
       "       [3.86405931, 3.        ],\n",
       "       [3.55657266, 4.        ],\n",
       "       [9.70014652, 3.        ]])"
      ]
     },
     "execution_count": 14,
     "metadata": {},
     "output_type": "execute_result"
    }
   ],
   "source": [
    "prior_data"
   ]
  },
  {
   "cell_type": "code",
   "execution_count": null,
   "id": "5f5c1d92",
   "metadata": {},
   "outputs": [],
   "source": []
  }
 ],
 "metadata": {
  "hide_input": false,
  "kernelspec": {
   "display_name": "pymmmc_env",
   "language": "python",
   "name": "pymmmc_env"
  },
  "language_info": {
   "codemirror_mode": {
    "name": "ipython",
    "version": 3
   },
   "file_extension": ".py",
   "mimetype": "text/x-python",
   "name": "python",
   "nbconvert_exporter": "python",
   "pygments_lexer": "ipython3",
   "version": "3.8.16"
  },
  "toc": {
   "base_numbering": 1,
   "nav_menu": {},
   "number_sections": true,
   "sideBar": true,
   "skip_h1_title": false,
   "title_cell": "Table of Contents",
   "title_sidebar": "Contents",
   "toc_cell": false,
   "toc_position": {},
   "toc_section_display": true,
   "toc_window_display": false
  }
 },
 "nbformat": 4,
 "nbformat_minor": 5
}
